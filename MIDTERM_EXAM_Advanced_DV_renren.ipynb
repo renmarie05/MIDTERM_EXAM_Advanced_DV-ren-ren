{
  "nbformat": 4,
  "nbformat_minor": 0,
  "metadata": {
    "colab": {
      "provenance": [],
      "authorship_tag": "ABX9TyMDHcDFACRczTNFs3gMGgQ+",
      "include_colab_link": true
    },
    "kernelspec": {
      "name": "python3",
      "display_name": "Python 3"
    },
    "language_info": {
      "name": "python"
    }
  },
  "cells": [
    {
      "cell_type": "markdown",
      "metadata": {
        "id": "view-in-github",
        "colab_type": "text"
      },
      "source": [
        "<a href=\"https://colab.research.google.com/github/renmarie05/MIDTERM_EXAM_Advanced_DV-ren-ren/blob/main/MIDTERM_EXAM_Advanced_DV_renren.ipynb\" target=\"_parent\"><img src=\"https://colab.research.google.com/assets/colab-badge.svg\" alt=\"Open In Colab\"/></a>"
      ]
    },
    {
      "cell_type": "code",
      "execution_count": 1,
      "metadata": {
        "colab": {
          "base_uri": "https://localhost:8080/"
        },
        "id": "Rsb_PQrvgQAm",
        "outputId": "103f06cb-f473-46eb-b337-145706fcd841"
      },
      "outputs": [
        {
          "output_type": "stream",
          "name": "stdout",
          "text": [
            "what is your name? Ren-ren\n",
            "Hello Ren-ren C.. Delmendo\n",
            "How old are you? 22\n",
            "You are 22 years old\n"
          ]
        }
      ],
      "source": [
        "name = input(\"what is your name? \")\n",
        "print(\"Hello\", \"Ren-ren C.. Delmendo\")\n",
        "age = input(\"How old are you? \")\n",
        "print (\"You are\", 22, \"years old\")"
      ]
    },
    {
      "cell_type": "code",
      "source": [
        "s = \"pizza\"\n",
        "t = \"P\""
      ],
      "metadata": {
        "id": "RzOvvMprgd5-"
      },
      "execution_count": 2,
      "outputs": []
    },
    {
      "cell_type": "code",
      "source": [
        "s = \"pizza\"\n",
        "t = \"PIZZA\""
      ],
      "metadata": {
        "id": "pPxXhJHPgqBx"
      },
      "execution_count": 3,
      "outputs": []
    },
    {
      "cell_type": "code",
      "source": [
        "s = \"pizza\"\n",
        "T = \"pizza\""
      ],
      "metadata": {
        "id": "u8nBtfAMgsZ8"
      },
      "execution_count": 4,
      "outputs": []
    },
    {
      "cell_type": "code",
      "source": [
        "name = \"read\"\n",
        "print (\"Peal\",(\"Read\", \"Deal\"))"
      ],
      "metadata": {
        "colab": {
          "base_uri": "https://localhost:8080/"
        },
        "id": "HPg5WEyIgvv7",
        "outputId": "9225efcc-a604-4638-c75a-8f1447b155be"
      },
      "execution_count": 5,
      "outputs": [
        {
          "output_type": "stream",
          "name": "stdout",
          "text": [
            "Peal ('Read', 'Deal')\n"
          ]
        }
      ]
    },
    {
      "cell_type": "code",
      "source": [
        "a = 2\n",
        "b = 3\n",
        "c = 2.3\n",
        "d = True"
      ],
      "metadata": {
        "id": "AEurbuT6gzCl"
      },
      "execution_count": 6,
      "outputs": []
    },
    {
      "cell_type": "code",
      "source": [
        "name = input(\"What is your name? \")\n",
        "print(f\"Hello {name}!\")\n",
        "birth_year = input(\"What is your birth year? \")\n",
        "birth_year = int(birth_year)\n",
        "print(f\"You are 22 years old!\")"
      ],
      "metadata": {
        "colab": {
          "base_uri": "https://localhost:8080/"
        },
        "id": "voYWc-HDjE-d",
        "outputId": "fcf7e44f-b922-4d7a-daf3-be68af697485"
      },
      "execution_count": 1,
      "outputs": [
        {
          "output_type": "stream",
          "name": "stdout",
          "text": [
            "What is your name? Ren-ren\n",
            "Hello Ren-ren!\n",
            "What is your birth year? 2000\n",
            "You are 22 years old!\n"
          ]
        }
      ]
    },
    {
      "cell_type": "code",
      "source": [
        "s1=input(\"Enter the first number: \")\n",
        "s2=input(\"Enter the second number: \")\n",
        "Add= float(s1)+float(s2)\n",
        "print('Sum: {1} + {1} = {2}'.format(s1, s2, Add))\n",
        "Subtract= float(s1)-float(s2)\n",
        "print('Difference: {1} - {1} = {2}'.format(s1, s2, Subtract))\n",
        "Multiply= float(s1)*float(s2)\n",
        "print('Product: {1} * {1} = {2}'.format(s1, s2, Multiply))\n",
        "Divide= float(s1)/float(s2)\n",
        "print('Quotient: {1} / {1} = {2}'.format(s1, s2, Divide))\n",
        "Exponent= float(s1)**float(s2)\n",
        "print('Power: {1} ** {1} = {2}'.format(s1, s2, Exponent))\n",
        "Remainder= float(s1)%float(s2)\n",
        "print('Division with Remainder: {0} / {1} = 0.0\\n Remainder: {2}'.format(s1, s2, Remainder))"
      ],
      "metadata": {
        "colab": {
          "base_uri": "https://localhost:8080/"
        },
        "id": "-71ATBL3o0xA",
        "outputId": "b96af7e6-0fbf-491d-a1c1-6f903f513d42"
      },
      "execution_count": 15,
      "outputs": [
        {
          "output_type": "stream",
          "name": "stdout",
          "text": [
            "Enter the first number: 23\n",
            "Enter the second number: 24\n",
            "Sum: 24 + 24 = 47.0\n",
            "Difference: 24 - 24 = -1.0\n",
            "Product: 24 * 24 = 552.0\n",
            "Quotient: 24 / 24 = 0.9583333333333334\n",
            "Power: 24 ** 24 = 4.8025076399650196e+32\n",
            "Division with Remainder: 23 / 24 = 0.0\n",
            " Remainder: 23.0\n"
          ]
        }
      ]
    },
    {
      "cell_type": "code",
      "source": [
        "if 5 + 10:\n",
        "  print(\"5 and 10 is not equal\")"
      ],
      "metadata": {
        "colab": {
          "base_uri": "https://localhost:8080/"
        },
        "id": "yEgvI89VkTR6",
        "outputId": "1f4746e0-c09f-4465-950e-6d0b117ff9e9"
      },
      "execution_count": 4,
      "outputs": [
        {
          "output_type": "stream",
          "name": "stdout",
          "text": [
            "5 and 10 is not equal\n"
          ]
        }
      ]
    },
    {
      "cell_type": "code",
      "source": [
        "choice = int(input(\"Enter your choice:\"))\n",
        "print(\"Enter two numbers: \")\n",
        "num1 = float(input())\n",
        "num2 = float(input())"
      ],
      "metadata": {
        "colab": {
          "base_uri": "https://localhost:8080/"
        },
        "id": "9zw-6TMAkbVW",
        "outputId": "3f8be482-4674-4396-b66f-b73bbdcedccb"
      },
      "execution_count": 5,
      "outputs": [
        {
          "name": "stdout",
          "output_type": "stream",
          "text": [
            "Enter your choice:22\n",
            "Enter two numbers: \n",
            "23\n",
            "24\n"
          ]
        }
      ]
    },
    {
      "cell_type": "code",
      "source": [
        "thislist = [\"apple\", \"banana\", \"cherry\"]\n",
        "[2]\n",
        "print(\"thislist apple, banana, cherry\")"
      ],
      "metadata": {
        "colab": {
          "base_uri": "https://localhost:8080/"
        },
        "id": "-sUQRwSTkd-S",
        "outputId": "5c844bd6-bd46-45f1-bd84-7fc6d7ddaee9"
      },
      "execution_count": 6,
      "outputs": [
        {
          "output_type": "stream",
          "name": "stdout",
          "text": [
            "thislist apple, banana, cherry\n"
          ]
        }
      ]
    },
    {
      "cell_type": "code",
      "source": [
        "thislist = [\"apple\", \"banana\", \"cherry\"]\n",
        "thislist= \"banana\"\n",
        "print(thislist)"
      ],
      "metadata": {
        "colab": {
          "base_uri": "https://localhost:8080/"
        },
        "id": "O7rWY9xOki-g",
        "outputId": "6dc7cb6e-d294-40b2-da6a-2be263a3440e"
      },
      "execution_count": 7,
      "outputs": [
        {
          "output_type": "stream",
          "name": "stdout",
          "text": [
            "banana\n"
          ]
        }
      ]
    },
    {
      "cell_type": "code",
      "source": [
        "thislist = [\"apple\", \"banana\", \"cherry\"]\n",
        "thislist = \"Orange\"\n",
        "print(thislist)"
      ],
      "metadata": {
        "colab": {
          "base_uri": "https://localhost:8080/"
        },
        "id": "vHhbu-Vdkl-Y",
        "outputId": "f99dac75-6ed7-4d36-bb87-554826ab27da"
      },
      "execution_count": 8,
      "outputs": [
        {
          "output_type": "stream",
          "name": "stdout",
          "text": [
            "Orange\n"
          ]
        }
      ]
    },
    {
      "cell_type": "code",
      "source": [
        "x = [7, 4, 3, 2, 5]\n",
        "x = 7,4,3,2\n",
        "print(x)"
      ],
      "metadata": {
        "colab": {
          "base_uri": "https://localhost:8080/"
        },
        "id": "zbxdd6SzknuX",
        "outputId": "1d1c792a-0cc2-4439-bbc8-64cd57337863"
      },
      "execution_count": 9,
      "outputs": [
        {
          "output_type": "stream",
          "name": "stdout",
          "text": [
            "(7, 4, 3, 2)\n"
          ]
        }
      ]
    },
    {
      "cell_type": "code",
      "source": [
        "z = [7, 5, 3, 3]\n",
        "print(\"5(7,3,3)\")"
      ],
      "metadata": {
        "colab": {
          "base_uri": "https://localhost:8080/"
        },
        "id": "pBDlGN5-kqx3",
        "outputId": "4c551a32-635e-45ee-f1e5-0e5d7e721a76"
      },
      "execution_count": 10,
      "outputs": [
        {
          "output_type": "stream",
          "name": "stdout",
          "text": [
            "5(7,3,3)\n"
          ]
        }
      ]
    },
    {
      "cell_type": "code",
      "source": [
        "x = [1, 2, 3]\n",
        "x= 1,2,3,4,5\n",
        "print(x)"
      ],
      "metadata": {
        "id": "NZgofntZkuRH"
      },
      "execution_count": null,
      "outputs": []
    },
    {
      "cell_type": "code",
      "source": [
        "z = [1, 2, 3, 4, 5]\n",
        "z = [1,2,3,4,[1,2],5]\n",
        "print(z)"
      ],
      "metadata": {
        "colab": {
          "base_uri": "https://localhost:8080/"
        },
        "id": "qABpKIeFkwbp",
        "outputId": "a9964a17-8cf4-4475-8991-d61abdf1748f"
      },
      "execution_count": 12,
      "outputs": [
        {
          "output_type": "stream",
          "name": "stdout",
          "text": [
            "[1, 2, 3, 4, [1, 2], 5]\n"
          ]
        }
      ]
    },
    {
      "cell_type": "code",
      "source": [
        "import numpy\n",
        "lst = [1, 7, 0, 6, 2, 5, 6]\n",
        "arr = numpy.asarray(lst)\n",
        "(\"1,7,0,6,2,5,6\", lst)\n",
        "(\"numpy: \", arr)\n",
        "arr1 = numpy.asarray(arr)\n",
        "(\"arr: \" , arr1)\n",
        "arr1[3] = 23\n",
        "(\"lst: \" , lst) \n",
        "(\"arr1: \" , arr1)"
      ],
      "metadata": {
        "colab": {
          "base_uri": "https://localhost:8080/"
        },
        "id": "LYJ8AJUOkzQW",
        "outputId": "23916ccd-b870-49ce-9955-0022035f953c"
      },
      "execution_count": 13,
      "outputs": [
        {
          "output_type": "execute_result",
          "data": {
            "text/plain": [
              "('arr1: ', array([ 1,  7,  0, 23,  2,  5,  6]))"
            ]
          },
          "metadata": {},
          "execution_count": 13
        }
      ]
    }
  ]
}
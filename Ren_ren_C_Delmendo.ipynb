{
  "nbformat": 4,
  "nbformat_minor": 0,
  "metadata": {
    "colab": {
      "provenance": [],
      "authorship_tag": "ABX9TyMSWqZoesOYH64EOyqC/DgD",
      "include_colab_link": true
    },
    "kernelspec": {
      "name": "python3",
      "display_name": "Python 3"
    },
    "language_info": {
      "name": "python"
    }
  },
  "cells": [
    {
      "cell_type": "markdown",
      "metadata": {
        "id": "view-in-github",
        "colab_type": "text"
      },
      "source": [
        "<a href=\"https://colab.research.google.com/github/renmarie05/MIDTERM_EXAM_Advanced_DV-ren-ren/blob/main/Ren_ren_C_Delmendo.ipynb\" target=\"_parent\"><img src=\"https://colab.research.google.com/assets/colab-badge.svg\" alt=\"Open In Colab\"/></a>"
      ]
    },
    {
      "cell_type": "code",
      "execution_count": 4,
      "metadata": {
        "colab": {
          "base_uri": "https://localhost:8080/"
        },
        "id": "AWKkj9dBi_Db",
        "outputId": "91e2569f-1cbc-4038-e166-82ea5b3b1f7d"
      },
      "outputs": [
        {
          "output_type": "stream",
          "name": "stdout",
          "text": [
            "What is your name? Ren-ren\n",
            "Hello Ren-ren\n",
            "How old are you? 22\n",
            "You are 22 years old\n"
          ]
        }
      ],
      "source": [
        "name = input(\"What is your name? \")\n",
        "print(\"Hello\", name.capitalize())\n",
        "age = input(\"How old are you? \")\n",
        "print(\"You are\", age, \"years old\")"
      ]
    },
    {
      "cell_type": "code",
      "source": [
        "s = \"pizza\"\n",
        "t = s[0].upper()\n",
        "s.capitalize()\n",
        "print(t)"
      ],
      "metadata": {
        "colab": {
          "base_uri": "https://localhost:8080/"
        },
        "id": "q4qY3Al6jB1M",
        "outputId": "d20696a0-bedc-4258-b7c3-f06836595b95"
      },
      "execution_count": 5,
      "outputs": [
        {
          "output_type": "stream",
          "name": "stdout",
          "text": [
            "P\n"
          ]
        }
      ]
    },
    {
      "cell_type": "code",
      "source": [
        "s = \"pizza\"\n",
        "t = s[0].upper()\n",
        "s.capitalize()\n",
        "print(t)"
      ],
      "metadata": {
        "colab": {
          "base_uri": "https://localhost:8080/"
        },
        "id": "e1SF8-fAjIOD",
        "outputId": "05a22cba-8c5e-4bd6-9272-ef3dbb2100dc"
      },
      "execution_count": 6,
      "outputs": [
        {
          "output_type": "stream",
          "name": "stdout",
          "text": [
            "P\n"
          ]
        }
      ]
    },
    {
      "cell_type": "code",
      "source": [
        "s = \"pizza\"\n",
        "t = s.lower()\n",
        "print(t)"
      ],
      "metadata": {
        "colab": {
          "base_uri": "https://localhost:8080/"
        },
        "id": "bpgeLpzRjOL7",
        "outputId": "733b9425-0069-4109-db56-12ea7de4f686"
      },
      "execution_count": 7,
      "outputs": [
        {
          "output_type": "stream",
          "name": "stdout",
          "text": [
            "pizza\n"
          ]
        }
      ]
    },
    {
      "cell_type": "code",
      "source": [
        "name = \"Read\"\n",
        "new_name = name.replace('R', 'P').replace('d', 'l')\n",
        "print(new_name)"
      ],
      "metadata": {
        "colab": {
          "base_uri": "https://localhost:8080/"
        },
        "id": "7gEzLiqNjSOl",
        "outputId": "de96f52e-2d94-42b1-b03a-7a9d192867c0"
      },
      "execution_count": 8,
      "outputs": [
        {
          "output_type": "stream",
          "name": "stdout",
          "text": [
            "Peal\n"
          ]
        }
      ]
    },
    {
      "cell_type": "code",
      "source": [
        "a = 2\n",
        "b = 3\n",
        "c = 2.3\n",
        "d = True\n",
        "print(type(a), type(b), type(c), type(d))"
      ],
      "metadata": {
        "colab": {
          "base_uri": "https://localhost:8080/"
        },
        "id": "GBcXkeRrjWxa",
        "outputId": "0e3de310-c770-4ee6-e5ba-c521c611d381"
      },
      "execution_count": 9,
      "outputs": [
        {
          "output_type": "stream",
          "name": "stdout",
          "text": [
            "<class 'int'> <class 'int'> <class 'float'> <class 'bool'>\n"
          ]
        }
      ]
    },
    {
      "cell_type": "code",
      "source": [
        "name = input(\"What is your name? \") # Rune\n",
        "print(f\"Hello {name}!\")\n",
        "birth_year = input(\"What is your birth year? \")\n",
        "birth_year = int(birth_year)\n",
        "print(f\"You are {2023 - birth_year} years old!\")"
      ],
      "metadata": {
        "colab": {
          "base_uri": "https://localhost:8080/"
        },
        "id": "rWwSiZT7jX4d",
        "outputId": "9cf6efd2-b446-4c3e-dfa9-d35423002380"
      },
      "execution_count": 10,
      "outputs": [
        {
          "output_type": "stream",
          "name": "stdout",
          "text": [
            "What is your name? Ren-ren\n",
            "Hello Ren-ren!\n",
            "What is your birth year? 2000\n",
            "You are 23 years old!\n"
          ]
        }
      ]
    },
    {
      "cell_type": "code",
      "source": [
        "s1 = input(\"Enter the first number: \")\n",
        "s2 = input(\"Enter the second number: \")\n",
        "Add = float(s1) + float(s2)\n",
        "print('Sum: {0} + {1} = {2}'.format(s1, s2, Add))\n",
        "Subtract = float(s1) - float(s2)\n",
        "print('Difference: {0} - {1} = {2}'.format(s1, s2, Subtract))\n",
        "Multiply = float(s1) * float(s2)\n",
        "print('Product: {0} * {1} = {2}'.format(s1, s2, Multiply))\n",
        "Divide = float(s1) / float(s2)\n",
        "print('Quotient: {0} / {1} = {2}'.format(s1, s2, Divide))\n",
        "Exponent = float(s1) ** float(s2)\n",
        "print('Power: {0} ** {1} = {2}'.format(s1, s2, Exponent))\n",
        "Remainder = float(s1) % float(s2)\n",
        "print('Division with Remainder: {0} / {1} = {2}\\nRemainder: {2}'.format(s1, s2, Divide, Remainder))"
      ],
      "metadata": {
        "colab": {
          "base_uri": "https://localhost:8080/"
        },
        "id": "9BepP_FJjd4e",
        "outputId": "13bf492d-5877-48de-e46a-d976fff4d478"
      },
      "execution_count": 11,
      "outputs": [
        {
          "output_type": "stream",
          "name": "stdout",
          "text": [
            "Enter the first number: 69\n",
            "Enter the second number: 69\n",
            "Sum: 69 + 69 = 138.0\n",
            "Difference: 69 - 69 = 0.0\n",
            "Product: 69 * 69 = 4761.0\n",
            "Quotient: 69 / 69 = 1.0\n",
            "Power: 69 ** 69 = 7.596040312163298e+126\n",
            "Division with Remainder: 69 / 69 = 1.0\n",
            "Remainder: 1.0\n"
          ]
        }
      ]
    },
    {
      "cell_type": "code",
      "source": [
        "num = 5 \n",
        "if num > 0 and num < 15: \n",
        " print(num)"
      ],
      "metadata": {
        "id": "RcJLPz_ajfpP"
      },
      "execution_count": null,
      "outputs": []
    },
    {
      "cell_type": "code",
      "source": [
        "if 5!=10:\n",
        " print(\"5 and 10 is not equal\")"
      ],
      "metadata": {
        "colab": {
          "base_uri": "https://localhost:8080/"
        },
        "id": "lF45FYc2jh2-",
        "outputId": "f805537f-a854-4a92-e74d-5a534b90c88d"
      },
      "execution_count": 13,
      "outputs": [
        {
          "output_type": "stream",
          "name": "stdout",
          "text": [
            "5 and 10 is not equal\n"
          ]
        }
      ]
    },
    {
      "cell_type": "code",
      "source": [
        "choice = int(input(\"Enter your choice:\"))\n",
        "#User's choice [1,2,3,4] if (choice>=1 and choice <=4):\n",
        "print(\"Enter two numbers: \")\n",
        "num1 = float(input())\n",
        "num2 = float(input())\n",
        "if choice == 1: \n",
        " res = num1 + num2\n",
        " print(\"Result = \", res)\n",
        "elif choice == 2:\n",
        " res = num1 - num2\n",
        " print(\"Result = \", res)\n",
        "elif choice == 3:\n",
        " res = num1 * num2\n",
        " print(\"Result = \", res)\n",
        "elif choice == 4:\n",
        " res = num1 / num2\n",
        " print(\"Result = \", res)\n",
        "elif choice == 5:\n",
        " exit()\n",
        "else: \n",
        " print(\"Wrong input..!!\")\n"
      ],
      "metadata": {
        "colab": {
          "base_uri": "https://localhost:8080/"
        },
        "id": "A2YVg5z6jjkF",
        "outputId": "d7e819a1-cbb7-44c6-ba1b-3f28a9bdca8e"
      },
      "execution_count": 23,
      "outputs": [
        {
          "output_type": "stream",
          "name": "stdout",
          "text": [
            "Enter your choice:7\n",
            "Enter two numbers: \n",
            "8\n",
            "9\n",
            "Wrong input..!!\n"
          ]
        }
      ]
    },
    {
      "cell_type": "code",
      "source": [
        "thislist = [\"apple\", \"banana\", \"cherry\"]\n",
        "print(thislist[2])"
      ],
      "metadata": {
        "colab": {
          "base_uri": "https://localhost:8080/"
        },
        "id": "c3fLTapMjlq-",
        "outputId": "0c5a65a5-f016-48a9-caee-b5892142f4fd"
      },
      "execution_count": 14,
      "outputs": [
        {
          "output_type": "stream",
          "name": "stdout",
          "text": [
            "cherry\n"
          ]
        }
      ]
    },
    {
      "cell_type": "code",
      "source": [
        "thislist = [\"apple\", \"banana\", \"cherry\"]\n",
        "thislist[1] = \"blackcurrant\"\n",
        "print(thislist)"
      ],
      "metadata": {
        "colab": {
          "base_uri": "https://localhost:8080/"
        },
        "id": "-23PIX0fjnue",
        "outputId": "83404bed-d57a-4174-fc69-db6d0aecbf8e"
      },
      "execution_count": 15,
      "outputs": [
        {
          "output_type": "stream",
          "name": "stdout",
          "text": [
            "['apple', 'blackcurrant', 'cherry']\n"
          ]
        }
      ]
    },
    {
      "cell_type": "code",
      "source": [
        "thislist = [\"apple\", \"banana\", \"cherry\"]\n",
        "thislist.append(\"orange\")\n",
        "print(thislist)\n"
      ],
      "metadata": {
        "colab": {
          "base_uri": "https://localhost:8080/"
        },
        "id": "4JqdzgKtjp9Y",
        "outputId": "f0a11941-0680-475a-b101-69aa5cc2cad7"
      },
      "execution_count": 16,
      "outputs": [
        {
          "output_type": "stream",
          "name": "stdout",
          "text": [
            "['apple', 'banana', 'cherry', 'orange']\n"
          ]
        }
      ]
    },
    {
      "cell_type": "code",
      "source": [
        "x = [7, 4, 3, 2, 5]\n",
        "x.remove(5)\n",
        "print(x)"
      ],
      "metadata": {
        "colab": {
          "base_uri": "https://localhost:8080/"
        },
        "id": "m9_8GY9mjrj_",
        "outputId": "5177b09d-3d0b-449c-8433-771ff5de2506"
      },
      "execution_count": 17,
      "outputs": [
        {
          "output_type": "stream",
          "name": "stdout",
          "text": [
            "[7, 4, 3, 2]\n"
          ]
        }
      ]
    },
    {
      "cell_type": "code",
      "source": [
        "z = [7, 5, 3, 3]\n",
        "removed_item = z.pop(1)\n",
        "print(removed_item)\n",
        "print(z)"
      ],
      "metadata": {
        "colab": {
          "base_uri": "https://localhost:8080/"
        },
        "id": "iWCvhWJQjt6M",
        "outputId": "c8e3cac0-8fe6-4e79-8f92-cf893a3f60d8"
      },
      "execution_count": 19,
      "outputs": [
        {
          "output_type": "stream",
          "name": "stdout",
          "text": [
            "5\n",
            "[7, 3, 3]\n"
          ]
        }
      ]
    },
    {
      "cell_type": "code",
      "source": [
        "x = [1, 2, 3]\n",
        "x.extend([4,5])\n",
        "print(x)\n"
      ],
      "metadata": {
        "colab": {
          "base_uri": "https://localhost:8080/"
        },
        "id": "mwDruYOhjvw5",
        "outputId": "36c96a39-71dc-4d01-debb-4f665180691f"
      },
      "execution_count": 18,
      "outputs": [
        {
          "output_type": "stream",
          "name": "stdout",
          "text": [
            "[1, 2, 3, 4, 5]\n"
          ]
        }
      ]
    },
    {
      "cell_type": "code",
      "source": [
        "z = [1, 2, 3, 4, 5]\n",
        "z.insert(4, [1, 2]) \n",
        "print(z)"
      ],
      "metadata": {
        "colab": {
          "base_uri": "https://localhost:8080/"
        },
        "id": "zDTlgKK3jxfi",
        "outputId": "8678f2d4-7d04-4c1f-9d6b-f10bd0dd3323"
      },
      "execution_count": 20,
      "outputs": [
        {
          "output_type": "stream",
          "name": "stdout",
          "text": [
            "[1, 2, 3, 4, [1, 2], 5]\n"
          ]
        }
      ]
    },
    {
      "cell_type": "code",
      "source": [
        "# importing library\n",
        "import numpy\n",
        "# initializing list\n",
        "lst = [1, 7, 0, 6, 2, 5, 6]\n",
        "# converting list to array\n",
        "arr = numpy.asarray(lst)\n",
        "# displaying list\n",
        "print(\"List:\", lst)\n",
        "# displaying array\n",
        "print(\"arr: \", arr)\n",
        "# made another array out of arr using asarray function\n",
        "arr1 = numpy.asarray(arr)\n",
        "#displaying arr1 before the changes made\n",
        "print(\"arr1: \" , arr1)\n",
        "#change made in arr1\n",
        "arr1[3] = 23\n",
        "#displaying arr1 , arr , list after the change has been made\n",
        "print(\"lst: \" , lst)\n",
        "print(\"arr1: \" , arr1)"
      ],
      "metadata": {
        "id": "L_JQ-Yyjjzj1"
      },
      "execution_count": null,
      "outputs": []
    }
  ]
}